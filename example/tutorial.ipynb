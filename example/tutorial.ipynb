{
 "cells": [
  {
   "cell_type": "code",
   "execution_count": 1,
   "id": "442e85e5",
   "metadata": {},
   "outputs": [],
   "source": [
    "from SouBaiduPan import searcher"
   ]
  },
  {
   "cell_type": "markdown",
   "id": "c255888e",
   "metadata": {},
   "source": [
    "创建网盘搜索器，初始化需要输入搜索关键词`keywords`，以及搜索页面数量`max_page_nums`。"
   ]
  },
  {
   "cell_type": "code",
   "execution_count": 4,
   "id": "51cdcc75",
   "metadata": {},
   "outputs": [],
   "source": [
    "keywords=\"月球陨落 网盘\"\n",
    "\n",
    "S = searcher.BaiduPanSearcher(keywords=keywords, max_page_nums=20)"
   ]
  },
  {
   "cell_type": "markdown",
   "id": "02de101c",
   "metadata": {},
   "source": [
    "开始搜索前，请设置浏览器cookie，具体方法，请参考我的b站视频。\n",
    "\n",
    "如果不设置cookie，可能会被百度反爬"
   ]
  },
  {
   "cell_type": "code",
   "execution_count": 3,
   "id": "493e75b6",
   "metadata": {},
   "outputs": [],
   "source": [
    "# S.set_cookie('请输入你的cookie')\n",
    "\n",
    "S.set_cookie('BIDUPSID=5BBE44DEF4545C953358B8DC20671123; PSTM=1651495088; BAIDUID=5BBE44DEF4545C95AD9E58E031C0D157:FG=1; BD_UPN=12314753; BDUSS=UVKb1dZbzdIOGdoamhPOWJhcTRHV0p-SDRGcURVUG1zQno4YVBkWGZRZ1U3WnhpRVFBQUFBJCQAAAAAAAAAAAEAAACHiRrEva21sLDXMDA2AAAAAAAAAAAAAAAAAAAAAAAAAAAAAAAAAAAAAAAAAAAAAAAAAAAAAAAAAAAAAAAAAAAAAAAAABRgdWIUYHViR; BDUSS_BFESS=UVKb1dZbzdIOGdoamhPOWJhcTRHV0p-SDRGcURVUG1zQno4YVBkWGZRZ1U3WnhpRVFBQUFBJCQAAAAAAAAAAAEAAACHiRrEva21sLDXMDA2AAAAAAAAAAAAAAAAAAAAAAAAAAAAAAAAAAAAAAAAAAAAAAAAAAAAAAAAAAAAAAAAAAAAAAAAABRgdWIUYHViR; H_WISE_SIDS=110085_127969_132549_179349_184716_188742_189755_190616_194085_194519_194530_196426_197242_197711_197957_199022_199569_200596_201193_201547_202652_203264_203280_203310_203525_204122_204713_204715_204717_204720_204860_204905_205217_205426_205484_205547_205910_206007_206927_206930_207716_207830_207997_208115_208267_208343_208599_208686_208721_208816_208968_209060_209345_209394_209512_209568_209944_209957_209981_210164_210306_210359_210439_210443_210642_210670_210709_210733_210736_210752_210852_210891_210893_210894_210900_210906_211028_211180_211208_211301_211333_211412_211442_211456_211580_211691_211740_211784_212078_212293_212618_212686_212699_212777_8000065_8000116_8000128_8000138_8000149_8000164_8000169_8000186; BD_HOME=1; H_PS_PSSID=36429_36183_31254_36421_36165_34584_35979_36055_26350_22160; BA_HECTOR=ak0lag8k8021858gkb1h7mfm50r')"
   ]
  },
  {
   "cell_type": "markdown",
   "id": "305d93e5",
   "metadata": {},
   "source": [
    "开始搜索。\n",
    "\n",
    "参数解释：\n",
    "\n",
    "`show`: 打印搜索到的链接，建议勾选。\n",
    "\n",
    "`show_origin_url`: 是否显示所有度盘链接的原链接。但如果提取码没识别到，则一定会显示。\n",
    "\n",
    "`open_in_Chrome`: 自动在Chrome浏览器中打开所有链接。请先安装驱动程序。\n",
    "\n",
    "`save_json_path`: 保存为json文件的路径。建议用搜索词命名，文件后缀为.json\n"
   ]
  },
  {
   "cell_type": "code",
   "execution_count": 5,
   "id": "a78d4cc5",
   "metadata": {},
   "outputs": [
    {
     "name": "stdout",
     "output_type": "stream",
     "text": [
      "正在访问 http://baijiahao.baidu.com/s?id=1715464098259928143&wfr=spider&for=pc \n",
      "正在访问 http://bbs.xzwidea.cn/read-170654-1.html \n",
      "正在访问 https://movie.douban.com/subject/26825482 \n",
      "正在访问 https://zhidao.baidu.com/question/881616942737395252.html \n",
      "正在访问 http://bbs.xzwidea.cn/read-122178-1.html \n",
      "正在访问 https://www.fastsoso.cn/search?k=%E6%9C%88%E7%90%83%E9%99%A8%E8%90%BD&s=0&t=1 正在访问 https://m.1905.com/m/film/videolist/2250769.shtml \n",
      "正在访问 http://m.eooele.com/more/guanshui/786700.html \n",
      "\n",
      "正在访问 http://www.stubbs.cn/thread-1508643-1-1.html \n",
      "正在访问 http://www.ihain.cn/thread-355155333-1-1.html 正在访问 http://wap.ihain.cn/thread-355068581-1-1.html \n",
      "\n",
      "正在访问 http://www.all-shared.com/?p=11903 正在访问 http://www.m.baidu.com/movie/144255.html \n",
      "正在访问 https://www.bdjsc.com/22078.html \n",
      "\n",
      "正在访问 https://www.77kpo.com/kehuanpian/123095/ \n",
      "正在访问 https://www.mini4k.com/movies/18371 \n",
      "正在访问 https://tieba.baidu.com/p/7817219198 \n",
      "正在访问 https://m.weibo.cn/ttarticle/p/show?id=2309404753014014739075 \n",
      "正在访问 https://www.xssousou.com/f/f7606e70a323ea2b.html \n",
      "正在访问 http://www.de56.com/detail/08490f6760b92d5b9b63ec3fa67960eb.html?ivk_sa=1024320u \n",
      "正在验证网盘链接 https://pan.baidu.com/s/1NZKCJNzI1_lrkXy9SiHmWA \n",
      "正在验证网盘链接 https://pan.baidu.com/s/1lttqFXLvfAVUFEt63FjZiQ \n",
      "========================================  有效链接  ========================================\n",
      "____________________________________________________________\n",
      "链接:  https://pan.baidu.com/s/1NZKCJNzI1_lrkXy9SiHmWA\n",
      "提取码:  1io8\n",
      "========================================  需自行查找提取码  ======================================== \n",
      "\n"
     ]
    }
   ],
   "source": [
    "S.get_dupan_urls(\n",
    "    show=True, \n",
    "    open_in_Chrome=True, \n",
    "    save_json_path=f\"./{keywords}.json\"\n",
    ")"
   ]
  }
 ],
 "metadata": {
  "kernelspec": {
   "display_name": "Python 3",
   "language": "python",
   "name": "python3"
  },
  "language_info": {
   "codemirror_mode": {
    "name": "ipython",
    "version": 3
   },
   "file_extension": ".py",
   "mimetype": "text/x-python",
   "name": "python",
   "nbconvert_exporter": "python",
   "pygments_lexer": "ipython3",
   "version": "3.8.8"
  }
 },
 "nbformat": 4,
 "nbformat_minor": 5
}
