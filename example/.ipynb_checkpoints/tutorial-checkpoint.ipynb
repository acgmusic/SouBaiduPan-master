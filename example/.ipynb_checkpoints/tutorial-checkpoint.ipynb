{
 "cells": [
  {
   "cell_type": "code",
   "execution_count": 6,
   "id": "d4f1d5d9",
   "metadata": {},
   "outputs": [],
   "source": [
    "from SouBaiduPan import searcher"
   ]
  },
  {
   "cell_type": "markdown",
   "id": "9b83aa13",
   "metadata": {},
   "source": [
    "创建网盘搜索器，初始化需要输入搜索关键词`keywords`，以及搜索页面数量`max_page_nums`。   \n",
    "\n",
    "如果不是很冷门的资源，设置`max_page_nums=5`即可"
   ]
  },
  {
   "cell_type": "code",
   "execution_count": 20,
   "id": "3ebad337",
   "metadata": {},
   "outputs": [],
   "source": [
    "keywords=\"月球陨落 网盘\"\n",
    "\n",
    "S = searcher.BaiduPanSearcher(keywords=keywords, max_page_nums=20)"
   ]
  },
  {
   "cell_type": "markdown",
   "id": "34c3d2ed",
   "metadata": {},
   "source": [
    "开始搜索前，请设置浏览器cookie，具体方法，请参考我的b站视频。\n",
    "\n",
    "如果不设置cookie，可能会被百度反爬"
   ]
  },
  {
   "cell_type": "code",
   "execution_count": 10,
   "id": "61d46e38",
   "metadata": {},
   "outputs": [],
   "source": [
    "S.set_cookie('请输入你的cookie')"
   ]
  },
  {
   "cell_type": "markdown",
   "id": "dab3433c",
   "metadata": {},
   "source": [
    "开始搜索。\n",
    "\n",
    "参数解释：\n",
    "\n",
    "`show`: 打印搜索到的链接，建议勾选。\n",
    "\n",
    "`show_origin_url`: 是否显示所有度盘链接的原链接。但如果提取码没识别到，则一定会显示。\n",
    "\n",
    "`open_in_Chrome`: 自动在Chrome浏览器中打开所有链接。请先安装驱动程序。\n",
    "\n",
    "`save_json_path`: 保存为json文件的路径。建议用搜索词命名，文件后缀为.json\n"
   ]
  },
  {
   "cell_type": "code",
   "execution_count": null,
   "id": "830d5f00",
   "metadata": {},
   "outputs": [],
   "source": [
    "S.get_dupan_urls(\n",
    "    show=True, \n",
    "    open_in_Chrome=True, \n",
    "    save_json_path=f\"./{keywords}.json\"\n",
    ")"
   ]
  }
 ],
 "metadata": {
  "kernelspec": {
   "display_name": "Python 3",
   "language": "python",
   "name": "python3"
  },
  "language_info": {
   "codemirror_mode": {
    "name": "ipython",
    "version": 3
   },
   "file_extension": ".py",
   "mimetype": "text/x-python",
   "name": "python",
   "nbconvert_exporter": "python",
   "pygments_lexer": "ipython3",
   "version": "3.8.8"
  }
 },
 "nbformat": 4,
 "nbformat_minor": 5
}
